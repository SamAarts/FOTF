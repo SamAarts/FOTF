{
 "cells": [
  {
   "cell_type": "code",
   "execution_count": 1,
   "id": "40eaca65-9aa9-4433-a6a6-225630e417b8",
   "metadata": {},
   "outputs": [
    {
     "ename": "ModuleNotFoundError",
     "evalue": "No module named 'matlab.engine'; 'matlab' is not a package",
     "output_type": "error",
     "traceback": [
      "\u001b[1;31m---------------------------------------------------------------------------\u001b[0m",
      "\u001b[1;31mModuleNotFoundError\u001b[0m                       Traceback (most recent call last)",
      "Input \u001b[1;32mIn [1]\u001b[0m, in \u001b[0;36m<cell line: 1>\u001b[1;34m()\u001b[0m\n\u001b[1;32m----> 1\u001b[0m \u001b[38;5;28;01mimport\u001b[39;00m \u001b[38;5;21;01mmatlab\u001b[39;00m\u001b[38;5;21;01m.\u001b[39;00m\u001b[38;5;21;01mengine\u001b[39;00m\n",
      "\u001b[1;31mModuleNotFoundError\u001b[0m: No module named 'matlab.engine'; 'matlab' is not a package"
     ]
    }
   ],
   "source": [
    "import matlab.engine"
   ]
  },
  {
   "cell_type": "code",
   "execution_count": 4,
   "id": "27695551-71c8-4b87-ba7e-210f5c70ee84",
   "metadata": {},
   "outputs": [
    {
     "name": "stdout",
     "output_type": "stream",
     "text": [
      "Defaulting to user installation because normal site-packages is not writeable\n",
      "Collecting matlabengine\n",
      "  Downloading matlabengine-24.2.2.tar.gz (18 kB)\n",
      "  Installing build dependencies: started\n",
      "  Installing build dependencies: finished with status 'done'\n",
      "  Getting requirements to build wheel: started\n",
      "  Getting requirements to build wheel: finished with status 'done'\n",
      "    Preparing wheel metadata: started\n",
      "    Preparing wheel metadata: finished with status 'done'\n",
      "Building wheels for collected packages: matlabengine\n",
      "  Building wheel for matlabengine (PEP 517): started\n",
      "  Building wheel for matlabengine (PEP 517): finished with status 'error'\n",
      "Failed to build matlabengine\n",
      "Note: you may need to restart the kernel to use updated packages.\n"
     ]
    },
    {
     "name": "stderr",
     "output_type": "stream",
     "text": [
      "  ERROR: Command errored out with exit status 1:\n",
      "   command: 'C:\\Anaconda\\python.exe' 'C:\\Anaconda\\lib\\site-packages\\pip\\_vendor\\pep517\\in_process\\_in_process.py' build_wheel 'C:\\Users\\samaa\\AppData\\Local\\Temp\\tmpvdjvzg18'\n",
      "       cwd: C:\\Users\\samaa\\AppData\\Local\\Temp\\pip-install-dfxelnxt\\matlabengine_6a2a51abef3244ea80db963f313aaa0d\n",
      "  Complete output (53 lines):\n",
      "  running bdist_wheel\n",
      "  running build\n",
      "  running build_py\n",
      "  _get_engine_ver_major_minor returned: ('24', '2')\n",
      "  _get_engine_ver_major_minor returned: ('24', '2')\n",
      "  Traceback (most recent call last):\n",
      "    File \"C:\\Anaconda\\lib\\site-packages\\pip\\_vendor\\pep517\\in_process\\_in_process.py\", line 349, in <module>\n",
      "      main()\n",
      "    File \"C:\\Anaconda\\lib\\site-packages\\pip\\_vendor\\pep517\\in_process\\_in_process.py\", line 331, in main\n",
      "      json_out['return_val'] = hook(**hook_input['kwargs'])\n",
      "    File \"C:\\Anaconda\\lib\\site-packages\\pip\\_vendor\\pep517\\in_process\\_in_process.py\", line 248, in build_wheel\n",
      "      return _build_backend().build_wheel(wheel_directory, config_settings,\n",
      "    File \"C:\\Users\\samaa\\AppData\\Local\\Temp\\pip-build-env-_53_fgl7\\overlay\\Lib\\site-packages\\setuptools\\build_meta.py\", line 438, in build_wheel\n",
      "      return _build(['bdist_wheel', '--dist-info-dir', str(metadata_directory)])\n",
      "    File \"C:\\Users\\samaa\\AppData\\Local\\Temp\\pip-build-env-_53_fgl7\\overlay\\Lib\\site-packages\\setuptools\\build_meta.py\", line 426, in _build\n",
      "      return self._build_with_temp_dir(\n",
      "    File \"C:\\Users\\samaa\\AppData\\Local\\Temp\\pip-build-env-_53_fgl7\\overlay\\Lib\\site-packages\\setuptools\\build_meta.py\", line 407, in _build_with_temp_dir\n",
      "      self.run_setup()\n",
      "    File \"C:\\Users\\samaa\\AppData\\Local\\Temp\\pip-build-env-_53_fgl7\\overlay\\Lib\\site-packages\\setuptools\\build_meta.py\", line 320, in run_setup\n",
      "      exec(code, locals())\n",
      "    File \"<string>\", line 417, in <module>\n",
      "    File \"C:\\Users\\samaa\\AppData\\Local\\Temp\\pip-build-env-_53_fgl7\\overlay\\Lib\\site-packages\\setuptools\\__init__.py\", line 117, in setup\n",
      "      return distutils.core.setup(**attrs)\n",
      "    File \"C:\\Users\\samaa\\AppData\\Local\\Temp\\pip-build-env-_53_fgl7\\overlay\\Lib\\site-packages\\setuptools\\_distutils\\core.py\", line 186, in setup\n",
      "      return run_commands(dist)\n",
      "    File \"C:\\Users\\samaa\\AppData\\Local\\Temp\\pip-build-env-_53_fgl7\\overlay\\Lib\\site-packages\\setuptools\\_distutils\\core.py\", line 202, in run_commands\n",
      "      dist.run_commands()\n",
      "    File \"C:\\Users\\samaa\\AppData\\Local\\Temp\\pip-build-env-_53_fgl7\\overlay\\Lib\\site-packages\\setuptools\\_distutils\\dist.py\", line 983, in run_commands\n",
      "      self.run_command(cmd)\n",
      "    File \"C:\\Users\\samaa\\AppData\\Local\\Temp\\pip-build-env-_53_fgl7\\overlay\\Lib\\site-packages\\setuptools\\dist.py\", line 993, in run_command\n",
      "      super().run_command(command)\n",
      "    File \"C:\\Users\\samaa\\AppData\\Local\\Temp\\pip-build-env-_53_fgl7\\overlay\\Lib\\site-packages\\setuptools\\_distutils\\dist.py\", line 1002, in run_command\n",
      "      cmd_obj.run()\n",
      "    File \"C:\\Users\\samaa\\AppData\\Local\\Temp\\pip-build-env-_53_fgl7\\overlay\\Lib\\site-packages\\setuptools\\command\\bdist_wheel.py\", line 379, in run\n",
      "      self.run_command(\"build\")\n",
      "    File \"C:\\Users\\samaa\\AppData\\Local\\Temp\\pip-build-env-_53_fgl7\\overlay\\Lib\\site-packages\\setuptools\\_distutils\\cmd.py\", line 339, in run_command\n",
      "      self.distribution.run_command(command)\n",
      "    File \"C:\\Users\\samaa\\AppData\\Local\\Temp\\pip-build-env-_53_fgl7\\overlay\\Lib\\site-packages\\setuptools\\dist.py\", line 993, in run_command\n",
      "      super().run_command(command)\n",
      "    File \"C:\\Users\\samaa\\AppData\\Local\\Temp\\pip-build-env-_53_fgl7\\overlay\\Lib\\site-packages\\setuptools\\_distutils\\dist.py\", line 1002, in run_command\n",
      "      cmd_obj.run()\n",
      "    File \"C:\\Users\\samaa\\AppData\\Local\\Temp\\pip-build-env-_53_fgl7\\overlay\\Lib\\site-packages\\setuptools\\_distutils\\command\\build.py\", line 136, in run\n",
      "      self.run_command(cmd_name)\n",
      "    File \"C:\\Users\\samaa\\AppData\\Local\\Temp\\pip-build-env-_53_fgl7\\overlay\\Lib\\site-packages\\setuptools\\_distutils\\cmd.py\", line 339, in run_command\n",
      "      self.distribution.run_command(command)\n",
      "    File \"C:\\Users\\samaa\\AppData\\Local\\Temp\\pip-build-env-_53_fgl7\\overlay\\Lib\\site-packages\\setuptools\\dist.py\", line 993, in run_command\n",
      "      super().run_command(command)\n",
      "    File \"C:\\Users\\samaa\\AppData\\Local\\Temp\\pip-build-env-_53_fgl7\\overlay\\Lib\\site-packages\\setuptools\\_distutils\\dist.py\", line 1002, in run_command\n",
      "      cmd_obj.run()\n",
      "    File \"<string>\", line 383, in run\n",
      "    File \"<string>\", line 219, in get_matlab_root_from_windows_reg\n",
      "    File \"<string>\", line 262, in _find_matlab_key_from_windows_registry\n",
      "  RuntimeError: No compatible MATLAB installation found in Windows Registry. This release of MATLAB Engine API for Python is compatible with version 24.2. The found versions were 9.12.\n",
      "  ----------------------------------------\n",
      "  ERROR: Failed building wheel for matlabengine\n",
      "ERROR: Could not build wheels for matlabengine which use PEP 517 and cannot be installed directly\n"
     ]
    }
   ],
   "source": [
    "pip install matlabengine"
   ]
  }
 ],
 "metadata": {
  "kernelspec": {
   "display_name": "Python 3 (ipykernel)",
   "language": "python",
   "name": "python3"
  },
  "language_info": {
   "codemirror_mode": {
    "name": "ipython",
    "version": 3
   },
   "file_extension": ".py",
   "mimetype": "text/x-python",
   "name": "python",
   "nbconvert_exporter": "python",
   "pygments_lexer": "ipython3",
   "version": "3.9.12"
  }
 },
 "nbformat": 4,
 "nbformat_minor": 5
}
